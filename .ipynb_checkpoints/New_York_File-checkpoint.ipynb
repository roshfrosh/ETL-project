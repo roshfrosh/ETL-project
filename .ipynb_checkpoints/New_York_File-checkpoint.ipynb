{
 "cells": [
  {
   "cell_type": "code",
   "execution_count": null,
   "metadata": {},
   "outputs": [],
   "source": [
    "import csv\n",
    "import pandas as pd"
   ]
  },
  {
   "cell_type": "code",
   "execution_count": null,
   "metadata": {},
   "outputs": [],
   "source": [
    "nyc_csv = 'Resources/NYC_Inspection_Results.csv'\n",
    "nyc_df = pd.read_csv(nyc_csv)\n",
    "nyc_df.head\n",
    "nyc_df.columns"
   ]
  },
  {
   "cell_type": "code",
   "execution_count": null,
   "metadata": {},
   "outputs": [],
   "source": [
    "nyc_df = nyc_df.drop(['CAMIS', 'BORO', 'BUILDING', 'STREET', 'ZIPCODE',\\\n",
    "       'PHONE', 'CUISINE DESCRIPTION', 'INSPECTION DATE', 'ACTION',\\\n",
    "       'VIOLATION CODE', 'VIOLATION DESCRIPTION', 'CRITICAL FLAG',\\\n",
    "       'GRADE', 'GRADE DATE', 'RECORD DATE', 'INSPECTION TYPE', 'Latitude',\\\n",
    "       'Longitude', 'Community Board', 'Council District', 'Census Tract',\\\n",
    "       'BIN', 'BBL', 'NTA'], axis=1)\n",
    "nyc_df.head()"
   ]
  },
  {
   "cell_type": "code",
   "execution_count": null,
   "metadata": {},
   "outputs": [],
   "source": [
    "nyc_df.rename(columns={'DBA':'rest_name', 'Common Name': 'rest_no', 'SCORE':'SCORE'}, inplace=True)\n",
    "nyc_df.head()"
   ]
  },
  {
   "cell_type": "code",
   "execution_count": null,
   "metadata": {},
   "outputs": [],
   "source": [
    "# rest_list = nyc_df.loc[nyc_df[\"DBA\"] == \"PIZZA HUT\" | nyc_df[\"DBA\"] == \"STARBUCKS\"]\n",
    "# rest_list\n",
    "nyc_df = nyc_df[nyc_df['rest_no'].isin([\"PIZZA HUT\", \"STARBUCKS\", \"MCDONALD'S\", \"BURGER KING\", \"TACO BELL\", \"SUBWAY\"])]\n",
    "\n",
    "nyc_df.head()"
   ]
  },
  {
   "cell_type": "code",
   "execution_count": null,
   "metadata": {},
   "outputs": [],
   "source": [
    "rest_list_old_score = nyc_df\n",
    "rest_list_old_score['NY 100 pt score'] = 100-nyc_df['SCORE']\n",
    "rest_list_old_score.head()"
   ]
  },
  {
   "cell_type": "code",
   "execution_count": null,
   "metadata": {},
   "outputs": [],
   "source": [
    "NYC_data = rest_list_old_score.drop(['SCORE'], axis=1)\n",
    "NYC_data.index.names = ['ID']\n",
    "NYC_data.rename(columns={'NY 100 pt score':'score'}, inplace=True)\n",
    "NYC_data"
   ]
  },
  {
   "cell_type": "code",
   "execution_count": null,
   "metadata": {},
   "outputs": [],
   "source": [
    "NYC_Score_Avg = NYC_data.groupby(\"rest_no\")[\"score\"].mean()\n",
    "NYC_Score_Count = NYC_data.groupby(\"rest_no\")[\"score\"].count()\n",
    "NYC_Score_Avg"
   ]
  },
  {
   "cell_type": "code",
   "execution_count": null,
   "metadata": {},
   "outputs": [],
   "source": [
    "nyc_score_df = pd.DataFrame(NYC_Score_Avg)\n",
    "nyc_score_df.rename(columns={'score':'NYC_score_avg'}, inplace=True)\n",
    "nyc_score_df"
   ]
  },
  {
   "cell_type": "code",
   "execution_count": null,
   "metadata": {},
   "outputs": [],
   "source": [
    "nyc_count_df = pd.DataFrame(NYC_Score_Count)\n",
    "nyc_count_df.rename(columns={'score':'NYC_count'}, inplace=True)\n",
    "nyc_count_df"
   ]
  },
  {
   "cell_type": "code",
   "execution_count": null,
   "metadata": {},
   "outputs": [],
   "source": [
    "NYC_avg = pd.merge(nyc_score_df, nyc_count_df, on=\"rest_no\", how=\"left\")\n",
    "NYC_avg"
   ]
  },
  {
   "cell_type": "code",
   "execution_count": null,
   "metadata": {},
   "outputs": [],
   "source": []
  }
 ],
 "metadata": {
  "kernelspec": {
   "display_name": "Python 3",
   "language": "python",
   "name": "python3"
  },
  "language_info": {
   "codemirror_mode": {
    "name": "ipython",
    "version": 3
   },
   "file_extension": ".py",
   "mimetype": "text/x-python",
   "name": "python",
   "nbconvert_exporter": "python",
   "pygments_lexer": "ipython3",
   "version": "3.7.3"
  }
 },
 "nbformat": 4,
 "nbformat_minor": 2
}
